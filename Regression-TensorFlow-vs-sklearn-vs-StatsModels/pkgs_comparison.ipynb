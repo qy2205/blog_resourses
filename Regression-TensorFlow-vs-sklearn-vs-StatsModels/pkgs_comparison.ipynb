{
 "cells": [
  {
   "cell_type": "markdown",
   "metadata": {},
   "source": [
    "### Regression: TensorFlow vs Sklearn vs Statsmodels"
   ]
  },
  {
   "cell_type": "code",
   "execution_count": 23,
   "metadata": {},
   "outputs": [],
   "source": [
    "import pandas as pd\n",
    "import numpy as np\n",
    "from sklearn.linear_model import LinearRegression\n",
    "import statsmodels.api as sm\n",
    "import tensorflow as tf\n",
    "from sklearn.metrics import r2_score\n",
    "from sklearn.metrics import mean_squared_error\n",
    "\n",
    "import time\n",
    "\n",
    "import matplotlib.pyplot as plt"
   ]
  },
  {
   "cell_type": "markdown",
   "metadata": {},
   "source": [
    "* **Testing example**: Real Estate house price data"
   ]
  },
  {
   "cell_type": "code",
   "execution_count": 10,
   "metadata": {},
   "outputs": [
    {
     "data": {
      "text/html": [
       "<div>\n",
       "<style scoped>\n",
       "    .dataframe tbody tr th:only-of-type {\n",
       "        vertical-align: middle;\n",
       "    }\n",
       "\n",
       "    .dataframe tbody tr th {\n",
       "        vertical-align: top;\n",
       "    }\n",
       "\n",
       "    .dataframe thead th {\n",
       "        text-align: right;\n",
       "    }\n",
       "</style>\n",
       "<table border=\"1\" class=\"dataframe\">\n",
       "  <thead>\n",
       "    <tr style=\"text-align: right;\">\n",
       "      <th></th>\n",
       "      <th>X2 house age</th>\n",
       "      <th>X3 distance to the nearest MRT station</th>\n",
       "      <th>X4 number of convenience stores</th>\n",
       "      <th>X5 latitude</th>\n",
       "      <th>X6 longitude</th>\n",
       "      <th>Y house price of unit area</th>\n",
       "    </tr>\n",
       "  </thead>\n",
       "  <tbody>\n",
       "    <tr>\n",
       "      <td>0</td>\n",
       "      <td>32.0</td>\n",
       "      <td>84.87882</td>\n",
       "      <td>10</td>\n",
       "      <td>24.98298</td>\n",
       "      <td>121.54024</td>\n",
       "      <td>37.9</td>\n",
       "    </tr>\n",
       "    <tr>\n",
       "      <td>1</td>\n",
       "      <td>19.5</td>\n",
       "      <td>306.59470</td>\n",
       "      <td>9</td>\n",
       "      <td>24.98034</td>\n",
       "      <td>121.53951</td>\n",
       "      <td>42.2</td>\n",
       "    </tr>\n",
       "    <tr>\n",
       "      <td>2</td>\n",
       "      <td>13.3</td>\n",
       "      <td>561.98450</td>\n",
       "      <td>5</td>\n",
       "      <td>24.98746</td>\n",
       "      <td>121.54391</td>\n",
       "      <td>47.3</td>\n",
       "    </tr>\n",
       "    <tr>\n",
       "      <td>3</td>\n",
       "      <td>13.3</td>\n",
       "      <td>561.98450</td>\n",
       "      <td>5</td>\n",
       "      <td>24.98746</td>\n",
       "      <td>121.54391</td>\n",
       "      <td>54.8</td>\n",
       "    </tr>\n",
       "    <tr>\n",
       "      <td>4</td>\n",
       "      <td>5.0</td>\n",
       "      <td>390.56840</td>\n",
       "      <td>5</td>\n",
       "      <td>24.97937</td>\n",
       "      <td>121.54245</td>\n",
       "      <td>43.1</td>\n",
       "    </tr>\n",
       "  </tbody>\n",
       "</table>\n",
       "</div>"
      ],
      "text/plain": [
       "   X2 house age  X3 distance to the nearest MRT station  \\\n",
       "0          32.0                                84.87882   \n",
       "1          19.5                               306.59470   \n",
       "2          13.3                               561.98450   \n",
       "3          13.3                               561.98450   \n",
       "4           5.0                               390.56840   \n",
       "\n",
       "   X4 number of convenience stores  X5 latitude  X6 longitude  \\\n",
       "0                               10     24.98298     121.54024   \n",
       "1                                9     24.98034     121.53951   \n",
       "2                                5     24.98746     121.54391   \n",
       "3                                5     24.98746     121.54391   \n",
       "4                                5     24.97937     121.54245   \n",
       "\n",
       "   Y house price of unit area  \n",
       "0                        37.9  \n",
       "1                        42.2  \n",
       "2                        47.3  \n",
       "3                        54.8  \n",
       "4                        43.1  "
      ]
     },
     "execution_count": 10,
     "metadata": {},
     "output_type": "execute_result"
    }
   ],
   "source": [
    "data = pd.read_csv(\"regtestdata.csv\")\n",
    "data = data.drop(columns = [\"No\", 'X1 transaction date'])\n",
    "data.head()"
   ]
  },
  {
   "cell_type": "code",
   "execution_count": 11,
   "metadata": {},
   "outputs": [],
   "source": [
    "X = data.iloc[:, :-1]\n",
    "y = data.iloc[:, -1]"
   ]
  },
  {
   "cell_type": "markdown",
   "metadata": {},
   "source": [
    "#### Sklearn"
   ]
  },
  {
   "cell_type": "code",
   "execution_count": 12,
   "metadata": {
    "scrolled": true
   },
   "outputs": [
    {
     "name": "stdout",
     "output_type": "stream",
     "text": [
      "Wall time: 1.99 ms\n",
      "coefficient of determination 0.5711617064827398\n",
      "beta [-2.68916833e-01 -4.25908898e-03  1.16302048e+00  2.37767191e+02\n",
      " -7.80545273e+00] \n",
      "intercept -4945.595113744408\n"
     ]
    }
   ],
   "source": [
    "%time reg = LinearRegression().fit(X, y)\n",
    "print(\"coefficient of determination {0}\".format(reg.score(X, y)))\n",
    "print(\"beta {0} \\nintercept {1}\".format(reg.coef_, reg.intercept_))"
   ]
  },
  {
   "cell_type": "code",
   "execution_count": 13,
   "metadata": {},
   "outputs": [
    {
     "data": {
      "text/plain": [
       "0.5711617064827398"
      ]
     },
     "execution_count": 13,
     "metadata": {},
     "output_type": "execute_result"
    }
   ],
   "source": [
    "ysklearn = reg.predict(X)\n",
    "r2_score(y.values, ysklearn)"
   ]
  },
  {
   "cell_type": "markdown",
   "metadata": {},
   "source": [
    "#### Statsmodels"
   ]
  },
  {
   "cell_type": "code",
   "execution_count": 14,
   "metadata": {},
   "outputs": [
    {
     "name": "stdout",
     "output_type": "stream",
     "text": [
      "Wall time: 997 µs\n",
      "Wall time: 996 µs\n"
     ]
    },
    {
     "name": "stderr",
     "output_type": "stream",
     "text": [
      "D:\\Anaconda\\lib\\site-packages\\numpy\\core\\fromnumeric.py:2389: FutureWarning: Method .ptp is deprecated and will be removed in a future version. Use numpy.ptp instead.\n",
      "  return ptp(axis=axis, out=out, **kwargs)\n"
     ]
    }
   ],
   "source": [
    "Xsm = sm.add_constant(X, prepend=False)\n",
    "%time mod = sm.OLS(y, Xsm)\n",
    "%time res = mod.fit()"
   ]
  },
  {
   "cell_type": "code",
   "execution_count": 15,
   "metadata": {},
   "outputs": [
    {
     "data": {
      "text/html": [
       "<table class=\"simpletable\">\n",
       "<caption>OLS Regression Results</caption>\n",
       "<tr>\n",
       "  <th>Dep. Variable:</th>    <td>Y house price of unit area</td> <th>  R-squared:         </th> <td>   0.571</td>\n",
       "</tr>\n",
       "<tr>\n",
       "  <th>Model:</th>                        <td>OLS</td>            <th>  Adj. R-squared:    </th> <td>   0.566</td>\n",
       "</tr>\n",
       "<tr>\n",
       "  <th>Method:</th>                  <td>Least Squares</td>       <th>  F-statistic:       </th> <td>   108.7</td>\n",
       "</tr>\n",
       "<tr>\n",
       "  <th>Date:</th>                  <td>Wed, 08 Jan 2020</td>      <th>  Prob (F-statistic):</th> <td>9.34e-73</td>\n",
       "</tr>\n",
       "<tr>\n",
       "  <th>Time:</th>                      <td>14:32:44</td>          <th>  Log-Likelihood:    </th> <td> -1492.4</td>\n",
       "</tr>\n",
       "<tr>\n",
       "  <th>No. Observations:</th>           <td>   414</td>           <th>  AIC:               </th> <td>   2997.</td>\n",
       "</tr>\n",
       "<tr>\n",
       "  <th>Df Residuals:</th>               <td>   408</td>           <th>  BIC:               </th> <td>   3021.</td>\n",
       "</tr>\n",
       "<tr>\n",
       "  <th>Df Model:</th>                   <td>     5</td>           <th>                     </th>     <td> </td>   \n",
       "</tr>\n",
       "<tr>\n",
       "  <th>Covariance Type:</th>           <td>nonrobust</td>         <th>                     </th>     <td> </td>   \n",
       "</tr>\n",
       "</table>\n",
       "<table class=\"simpletable\">\n",
       "<tr>\n",
       "                     <td></td>                       <th>coef</th>     <th>std err</th>      <th>t</th>      <th>P>|t|</th>  <th>[0.025</th>    <th>0.975]</th>  \n",
       "</tr>\n",
       "<tr>\n",
       "  <th>X2 house age</th>                           <td>   -0.2689</td> <td>    0.039</td> <td>   -6.896</td> <td> 0.000</td> <td>   -0.346</td> <td>   -0.192</td>\n",
       "</tr>\n",
       "<tr>\n",
       "  <th>X3 distance to the nearest MRT station</th> <td>   -0.0043</td> <td>    0.001</td> <td>   -5.888</td> <td> 0.000</td> <td>   -0.006</td> <td>   -0.003</td>\n",
       "</tr>\n",
       "<tr>\n",
       "  <th>X4 number of convenience stores</th>        <td>    1.1630</td> <td>    0.190</td> <td>    6.114</td> <td> 0.000</td> <td>    0.789</td> <td>    1.537</td>\n",
       "</tr>\n",
       "<tr>\n",
       "  <th>X5 latitude</th>                            <td>  237.7672</td> <td>   44.948</td> <td>    5.290</td> <td> 0.000</td> <td>  149.409</td> <td>  326.126</td>\n",
       "</tr>\n",
       "<tr>\n",
       "  <th>X6 longitude</th>                           <td>   -7.8055</td> <td>   49.149</td> <td>   -0.159</td> <td> 0.874</td> <td> -104.422</td> <td>   88.811</td>\n",
       "</tr>\n",
       "<tr>\n",
       "  <th>const</th>                                  <td>-4945.5951</td> <td> 6211.157</td> <td>   -0.796</td> <td> 0.426</td> <td>-1.72e+04</td> <td> 7264.269</td>\n",
       "</tr>\n",
       "</table>\n",
       "<table class=\"simpletable\">\n",
       "<tr>\n",
       "  <th>Omnibus:</th>       <td>240.068</td> <th>  Durbin-Watson:     </th> <td>   2.149</td>\n",
       "</tr>\n",
       "<tr>\n",
       "  <th>Prob(Omnibus):</th> <td> 0.000</td>  <th>  Jarque-Bera (JB):  </th> <td>3748.747</td>\n",
       "</tr>\n",
       "<tr>\n",
       "  <th>Skew:</th>          <td> 2.129</td>  <th>  Prob(JB):          </th> <td>    0.00</td>\n",
       "</tr>\n",
       "<tr>\n",
       "  <th>Kurtosis:</th>      <td>17.114</td>  <th>  Cond. No.          </th> <td>2.35e+07</td>\n",
       "</tr>\n",
       "</table><br/><br/>Warnings:<br/>[1] Standard Errors assume that the covariance matrix of the errors is correctly specified.<br/>[2] The condition number is large, 2.35e+07. This might indicate that there are<br/>strong multicollinearity or other numerical problems."
      ],
      "text/plain": [
       "<class 'statsmodels.iolib.summary.Summary'>\n",
       "\"\"\"\n",
       "                                OLS Regression Results                                \n",
       "======================================================================================\n",
       "Dep. Variable:     Y house price of unit area   R-squared:                       0.571\n",
       "Model:                                    OLS   Adj. R-squared:                  0.566\n",
       "Method:                         Least Squares   F-statistic:                     108.7\n",
       "Date:                        Wed, 08 Jan 2020   Prob (F-statistic):           9.34e-73\n",
       "Time:                                14:32:44   Log-Likelihood:                -1492.4\n",
       "No. Observations:                         414   AIC:                             2997.\n",
       "Df Residuals:                             408   BIC:                             3021.\n",
       "Df Model:                                   5                                         \n",
       "Covariance Type:                    nonrobust                                         \n",
       "==========================================================================================================\n",
       "                                             coef    std err          t      P>|t|      [0.025      0.975]\n",
       "----------------------------------------------------------------------------------------------------------\n",
       "X2 house age                              -0.2689      0.039     -6.896      0.000      -0.346      -0.192\n",
       "X3 distance to the nearest MRT station    -0.0043      0.001     -5.888      0.000      -0.006      -0.003\n",
       "X4 number of convenience stores            1.1630      0.190      6.114      0.000       0.789       1.537\n",
       "X5 latitude                              237.7672     44.948      5.290      0.000     149.409     326.126\n",
       "X6 longitude                              -7.8055     49.149     -0.159      0.874    -104.422      88.811\n",
       "const                                  -4945.5951   6211.157     -0.796      0.426   -1.72e+04    7264.269\n",
       "==============================================================================\n",
       "Omnibus:                      240.068   Durbin-Watson:                   2.149\n",
       "Prob(Omnibus):                  0.000   Jarque-Bera (JB):             3748.747\n",
       "Skew:                           2.129   Prob(JB):                         0.00\n",
       "Kurtosis:                      17.114   Cond. No.                     2.35e+07\n",
       "==============================================================================\n",
       "\n",
       "Warnings:\n",
       "[1] Standard Errors assume that the covariance matrix of the errors is correctly specified.\n",
       "[2] The condition number is large, 2.35e+07. This might indicate that there are\n",
       "strong multicollinearity or other numerical problems.\n",
       "\"\"\""
      ]
     },
     "execution_count": 15,
     "metadata": {},
     "output_type": "execute_result"
    }
   ],
   "source": [
    "res.summary()"
   ]
  },
  {
   "cell_type": "markdown",
   "metadata": {},
   "source": [
    "#### TensorFlow (manually)"
   ]
  },
  {
   "cell_type": "code",
   "execution_count": 16,
   "metadata": {},
   "outputs": [],
   "source": [
    "Xminmax = X.apply(lambda x: (x - x.min())/(x.max() - x.min()))\n",
    "Xminmax = sm.add_constant(Xminmax, prepend=False)\n",
    "Xnn = tf.constant(Xminmax.values, dtype = tf.float32)\n",
    "ynn = tf.constant(y, dtype = tf.float32) "
   ]
  },
  {
   "cell_type": "code",
   "execution_count": 17,
   "metadata": {},
   "outputs": [],
   "source": [
    "def mean_squared_error(Y, y_pred):\n",
    "    return tf.reduce_mean(tf.square(y_pred - Y))\n",
    "def mean_squared_error_deriv(Y, y_pred):\n",
    "    return tf.reshape(tf.reduce_mean(2*(y_pred - Y)), [1, 1])\n",
    "def h(X, weights, bias):\n",
    "    return tf.tensordot(X, weights, axes=1) + bias"
   ]
  },
  {
   "cell_type": "code",
   "execution_count": 18,
   "metadata": {},
   "outputs": [],
   "source": [
    "num_epochs = 20\n",
    "num_samples = X.shape[0]\n",
    "batch_size = 100\n",
    "learning_rate = 0.01\n",
    "\n",
    "dataset = tf.data.Dataset.from_tensor_slices((Xnn, ynn))\n",
    "# buffer_size , a fixed size buffer from which the next element will be uniformly chosen from\n",
    "dataset = dataset.shuffle(buffer_size=400).repeat(num_epochs).batch(batch_size)\n",
    "iterator = dataset.__iter__()"
   ]
  },
  {
   "cell_type": "code",
   "execution_count": 19,
   "metadata": {
    "scrolled": false
   },
   "outputs": [
    {
     "name": "stdout",
     "output_type": "stream",
     "text": [
      "Loss is 1358.989013671875\n",
      "Loss is 980.7584228515625\n",
      "Loss is 687.59228515625\n",
      "Loss is 522.5646362304688\n",
      "Loss is 414.3692321777344\n",
      "Loss is 316.5061340332031\n",
      "Loss is 297.97625732421875\n",
      "Loss is 246.95008850097656\n",
      "Loss is 237.31556701660156\n",
      "Loss is 206.25967407226562\n",
      "Loss is 218.74339294433594\n",
      "Loss is 210.38148498535156\n",
      "Loss is 192.06008911132812\n",
      "Loss is 205.01051330566406\n",
      "Loss is 184.3499755859375\n",
      "Loss is 203.98345947265625\n",
      "Loss is 178.852783203125\n",
      "Loss is 185.07608032226562\n",
      "Loss is 191.60342407226562\n",
      "Loss is 199.62747192382812\n"
     ]
    }
   ],
   "source": [
    "num_features = Xnn.shape[1]\n",
    "weights = tf.random.normal((num_features, 1))\n",
    "bias = 0\n",
    "epochs_plot = []\n",
    "loss_plot = []\n",
    "\n",
    "for i in range(num_epochs) :\n",
    "    epoch_loss = []\n",
    "    for b in range(int(num_samples/batch_size)):\n",
    "        x_batch, y_batch = iterator.get_next()\n",
    "        output = h(x_batch, weights, bias) \n",
    "        loss = epoch_loss.append(mean_squared_error(y_batch, output ).numpy())\n",
    "        dJ_dH = mean_squared_error_deriv(y_batch, output)\n",
    "        dH_dW = x_batch\n",
    "        dJ_dW = tf.reduce_mean(dJ_dH*dH_dW)\n",
    "        dJ_dB = tf.reduce_mean(dJ_dH)\n",
    "        weights -= learning_rate*dJ_dW\n",
    "        bias -= learning_rate*dJ_dB\n",
    "    loss = np.array(epoch_loss).mean()\n",
    "    epochs_plot.append(i + 1)\n",
    "    loss_plot.append(loss)\n",
    "#     if i > 3 and (loss_plot[-2] - loss_plot[-1])/loss_plot[-1] < 0.001:\n",
    "#         print('Loss is {}'.format(loss))\n",
    "#         print(\"early stopping\")\n",
    "#         break\n",
    "    print('Loss is {}'.format(loss))"
   ]
  },
  {
   "cell_type": "code",
   "execution_count": 20,
   "metadata": {},
   "outputs": [
    {
     "data": {
      "image/png": "[encoded data removed]",
      "text/plain": [
       "<Figure size 432x288 with 1 Axes>"
      ]
     },
     "metadata": {
      "needs_background": "light"
     },
     "output_type": "display_data"
    }
   ],
   "source": [
    "plt.plot(epochs_plot, loss_plot) \n",
    "plt.show()"
   ]
  },
  {
   "cell_type": "code",
   "execution_count": 21,
   "metadata": {},
   "outputs": [
    {
     "data": {
      "text/plain": [
       "<tf.Tensor: id=2904, shape=(6, 1), dtype=float32, numpy=\n",
       "array([[6.0631566],\n",
       "       [7.881733 ],\n",
       "       [7.380377 ],\n",
       "       [6.316416 ],\n",
       "       [7.174367 ],\n",
       "       [8.993184 ]], dtype=float32)>"
      ]
     },
     "execution_count": 21,
     "metadata": {},
     "output_type": "execute_result"
    }
   ],
   "source": [
    "weights"
   ]
  },
  {
   "cell_type": "code",
   "execution_count": 22,
   "metadata": {},
   "outputs": [],
   "source": [
    "output = h(Xnn, weights, bias) "
   ]
  },
  {
   "cell_type": "markdown",
   "metadata": {},
   "source": [
    "* compare results"
   ]
  },
  {
   "cell_type": "code",
   "execution_count": 24,
   "metadata": {},
   "outputs": [
    {
     "data": {
      "text/plain": [
       "79.20185189210986"
      ]
     },
     "execution_count": 24,
     "metadata": {},
     "output_type": "execute_result"
    }
   ],
   "source": [
    "mean_squared_error(y.values, ysklearn)"
   ]
  },
  {
   "cell_type": "code",
   "execution_count": 25,
   "metadata": {},
   "outputs": [
    {
     "data": {
      "text/plain": [
       "0.5711617064827398"
      ]
     },
     "execution_count": 25,
     "metadata": {},
     "output_type": "execute_result"
    }
   ],
   "source": [
    "r2_score(y.values, ysklearn)"
   ]
  },
  {
   "cell_type": "code",
   "execution_count": 26,
   "metadata": {},
   "outputs": [
    {
     "data": {
      "text/plain": [
       "166.152724132257"
      ]
     },
     "execution_count": 26,
     "metadata": {},
     "output_type": "execute_result"
    }
   ],
   "source": [
    "mean_squared_error(y.values, np.array(output).ravel())"
   ]
  },
  {
   "cell_type": "code",
   "execution_count": 27,
   "metadata": {},
   "outputs": [
    {
     "data": {
      "text/plain": [
       "0.10036635535766536"
      ]
     },
     "execution_count": 27,
     "metadata": {},
     "output_type": "execute_result"
    }
   ],
   "source": [
    "r2_score(y.values, np.array(output).ravel())"
   ]
  },
  {
   "cell_type": "markdown",
   "metadata": {},
   "source": [
    "#### TensorFlow.Keras"
   ]
  },
  {
   "cell_type": "code",
   "execution_count": 30,
   "metadata": {
    "collapsed": true
   },
   "outputs": [
    {
     "name": "stdout",
     "output_type": "stream",
     "text": [
      "Train on 414 samples\n",
      "Epoch 1/80\n",
      "414/414 [==============================] - 0s 597us/sample - loss: 896.6500 - mean_absolute_error: 26.4509 - mean_squared_error: 896.6500\n",
      "Epoch 2/80\n",
      "414/414 [==============================] - 0s 43us/sample - loss: 295.1897 - mean_absolute_error: 13.3173 - mean_squared_error: 295.1898\n",
      "Epoch 3/80\n",
      "414/414 [==============================] - 0s 41us/sample - loss: 172.0404 - mean_absolute_error: 9.8855 - mean_squared_error: 172.0404\n",
      "Epoch 4/80\n",
      "414/414 [==============================] - 0s 36us/sample - loss: 143.9924 - mean_absolute_error: 9.0765 - mean_squared_error: 143.9924\n",
      "Epoch 5/80\n",
      "414/414 [==============================] - 0s 41us/sample - loss: 136.0952 - mean_absolute_error: 8.8789 - mean_squared_error: 136.0952\n",
      "Epoch 6/80\n",
      "414/414 [==============================] - 0s 34us/sample - loss: 132.7646 - mean_absolute_error: 8.7889 - mean_squared_error: 132.7646\n",
      "Epoch 7/80\n",
      "414/414 [==============================] - 0s 39us/sample - loss: 130.2836 - mean_absolute_error: 8.7316 - mean_squared_error: 130.2836\n",
      "Epoch 8/80\n",
      "414/414 [==============================] - 0s 36us/sample - loss: 127.7822 - mean_absolute_error: 8.6210 - mean_squared_error: 127.7822\n",
      "Epoch 9/80\n",
      "414/414 [==============================] - 0s 41us/sample - loss: 125.7170 - mean_absolute_error: 8.5893 - mean_squared_error: 125.7170\n",
      "Epoch 10/80\n",
      "414/414 [==============================] - 0s 39us/sample - loss: 123.6199 - mean_absolute_error: 8.4686 - mean_squared_error: 123.6199\n",
      "Epoch 11/80\n",
      "414/414 [==============================] - 0s 39us/sample - loss: 121.7806 - mean_absolute_error: 8.3942 - mean_squared_error: 121.7806\n",
      "Epoch 12/80\n",
      "414/414 [==============================] - 0s 46us/sample - loss: 119.9222 - mean_absolute_error: 8.3017 - mean_squared_error: 119.9222\n",
      "Epoch 13/80\n",
      "414/414 [==============================] - 0s 43us/sample - loss: 118.4376 - mean_absolute_error: 8.2547 - mean_squared_error: 118.4376\n",
      "Epoch 14/80\n",
      "414/414 [==============================] - 0s 41us/sample - loss: 116.5488 - mean_absolute_error: 8.1695 - mean_squared_error: 116.5488\n",
      "Epoch 15/80\n",
      "414/414 [==============================] - 0s 39us/sample - loss: 114.9699 - mean_absolute_error: 8.1040 - mean_squared_error: 114.9699\n",
      "Epoch 16/80\n",
      "414/414 [==============================] - 0s 36us/sample - loss: 113.4340 - mean_absolute_error: 8.0370 - mean_squared_error: 113.4340\n",
      "Epoch 17/80\n",
      "414/414 [==============================] - 0s 41us/sample - loss: 112.2024 - mean_absolute_error: 7.9727 - mean_squared_error: 112.2024\n",
      "Epoch 18/80\n",
      "414/414 [==============================] - 0s 41us/sample - loss: 110.7733 - mean_absolute_error: 7.8930 - mean_squared_error: 110.7733\n",
      "Epoch 19/80\n",
      "414/414 [==============================] - 0s 41us/sample - loss: 109.5808 - mean_absolute_error: 7.8631 - mean_squared_error: 109.5808\n",
      "Epoch 20/80\n",
      "414/414 [==============================] - 0s 36us/sample - loss: 108.2208 - mean_absolute_error: 7.7869 - mean_squared_error: 108.2208\n",
      "Epoch 21/80\n",
      "414/414 [==============================] - 0s 34us/sample - loss: 107.1407 - mean_absolute_error: 7.7396 - mean_squared_error: 107.1407\n",
      "Epoch 22/80\n",
      "414/414 [==============================] - 0s 34us/sample - loss: 106.1204 - mean_absolute_error: 7.6984 - mean_squared_error: 106.1204\n",
      "Epoch 23/80\n",
      "414/414 [==============================] - 0s 39us/sample - loss: 105.0330 - mean_absolute_error: 7.6545 - mean_squared_error: 105.0330\n",
      "Epoch 24/80\n",
      "414/414 [==============================] - 0s 39us/sample - loss: 104.1281 - mean_absolute_error: 7.6091 - mean_squared_error: 104.1281\n",
      "Epoch 25/80\n",
      "414/414 [==============================] - 0s 34us/sample - loss: 103.1202 - mean_absolute_error: 7.5681 - mean_squared_error: 103.1202\n",
      "Epoch 26/80\n",
      "414/414 [==============================] - 0s 34us/sample - loss: 102.1523 - mean_absolute_error: 7.5238 - mean_squared_error: 102.1523\n",
      "Epoch 27/80\n",
      "414/414 [==============================] - 0s 36us/sample - loss: 101.2129 - mean_absolute_error: 7.4438 - mean_squared_error: 101.2129\n",
      "Epoch 28/80\n",
      "414/414 [==============================] - 0s 31us/sample - loss: 100.4525 - mean_absolute_error: 7.3894 - mean_squared_error: 100.4525\n",
      "Epoch 29/80\n",
      "414/414 [==============================] - 0s 26us/sample - loss: 99.7798 - mean_absolute_error: 7.3846 - mean_squared_error: 99.7798\n",
      "Epoch 30/80\n",
      "414/414 [==============================] - 0s 26us/sample - loss: 99.0432 - mean_absolute_error: 7.3550 - mean_squared_error: 99.0432\n",
      "Epoch 31/80\n",
      "414/414 [==============================] - 0s 29us/sample - loss: 98.2727 - mean_absolute_error: 7.2915 - mean_squared_error: 98.2727\n",
      "Epoch 32/80\n",
      "414/414 [==============================] - 0s 29us/sample - loss: 97.6225 - mean_absolute_error: 7.2673 - mean_squared_error: 97.6225\n",
      "Epoch 33/80\n",
      "414/414 [==============================] - 0s 29us/sample - loss: 96.9552 - mean_absolute_error: 7.2288 - mean_squared_error: 96.9552\n",
      "Epoch 34/80\n",
      "414/414 [==============================] - 0s 29us/sample - loss: 96.6670 - mean_absolute_error: 7.1995 - mean_squared_error: 96.6669\n",
      "Epoch 35/80\n",
      "414/414 [==============================] - 0s 31us/sample - loss: 95.8349 - mean_absolute_error: 7.1554 - mean_squared_error: 95.8349\n",
      "Epoch 36/80\n",
      "414/414 [==============================] - 0s 29us/sample - loss: 95.2536 - mean_absolute_error: 7.1659 - mean_squared_error: 95.2536\n",
      "Epoch 37/80\n",
      "414/414 [==============================] - 0s 29us/sample - loss: 94.7602 - mean_absolute_error: 7.1163 - mean_squared_error: 94.7602\n",
      "Epoch 38/80\n",
      "414/414 [==============================] - 0s 31us/sample - loss: 94.2784 - mean_absolute_error: 7.0691 - mean_squared_error: 94.2784\n",
      "Epoch 39/80\n",
      "414/414 [==============================] - 0s 31us/sample - loss: 93.8157 - mean_absolute_error: 7.0647 - mean_squared_error: 93.8157\n",
      "Epoch 40/80\n",
      "414/414 [==============================] - 0s 27us/sample - loss: 93.2790 - mean_absolute_error: 7.0255 - mean_squared_error: 93.2790\n",
      "Epoch 41/80\n",
      "414/414 [==============================] - 0s 31us/sample - loss: 92.8918 - mean_absolute_error: 6.9927 - mean_squared_error: 92.8918\n",
      "Epoch 42/80\n",
      "414/414 [==============================] - 0s 31us/sample - loss: 92.4318 - mean_absolute_error: 7.0090 - mean_squared_error: 92.4318\n",
      "Epoch 43/80\n",
      "414/414 [==============================] - 0s 36us/sample - loss: 91.9613 - mean_absolute_error: 6.9723 - mean_squared_error: 91.9613\n",
      "Epoch 44/80\n",
      "414/414 [==============================] - 0s 31us/sample - loss: 91.6935 - mean_absolute_error: 6.9076 - mean_squared_error: 91.6936\n",
      "Epoch 45/80\n",
      "414/414 [==============================] - 0s 31us/sample - loss: 91.2516 - mean_absolute_error: 6.9085 - mean_squared_error: 91.2516\n",
      "Epoch 46/80\n",
      "414/414 [==============================] - 0s 31us/sample - loss: 90.9863 - mean_absolute_error: 6.8781 - mean_squared_error: 90.9863\n",
      "Epoch 47/80\n",
      "414/414 [==============================] - 0s 29us/sample - loss: 90.6350 - mean_absolute_error: 6.8916 - mean_squared_error: 90.6350\n",
      "Epoch 48/80\n",
      "414/414 [==============================] - 0s 29us/sample - loss: 90.2415 - mean_absolute_error: 6.8412 - mean_squared_error: 90.2415\n",
      "Epoch 49/80\n",
      "414/414 [==============================] - 0s 29us/sample - loss: 89.9502 - mean_absolute_error: 6.8370 - mean_squared_error: 89.9502\n",
      "Epoch 50/80\n",
      "414/414 [==============================] - 0s 29us/sample - loss: 89.6989 - mean_absolute_error: 6.8029 - mean_squared_error: 89.6989\n",
      "Epoch 51/80\n",
      "414/414 [==============================] - 0s 36us/sample - loss: 89.4900 - mean_absolute_error: 6.7669 - mean_squared_error: 89.4900\n",
      "Epoch 52/80\n",
      "414/414 [==============================] - 0s 39us/sample - loss: 89.2736 - mean_absolute_error: 6.7756 - mean_squared_error: 89.2736\n",
      "Epoch 53/80\n",
      "414/414 [==============================] - 0s 39us/sample - loss: 88.8706 - mean_absolute_error: 6.7840 - mean_squared_error: 88.8706\n",
      "Epoch 54/80\n",
      "414/414 [==============================] - 0s 41us/sample - loss: 88.6695 - mean_absolute_error: 6.7358 - mean_squared_error: 88.6694\n",
      "Epoch 55/80\n",
      "414/414 [==============================] - 0s 34us/sample - loss: 88.6424 - mean_absolute_error: 6.7578 - mean_squared_error: 88.6424\n",
      "Epoch 56/80\n"
     ]
    },
    {
     "name": "stdout",
     "output_type": "stream",
     "text": [
      "414/414 [==============================] - 0s 26us/sample - loss: 88.2962 - mean_absolute_error: 6.7128 - mean_squared_error: 88.2962\n",
      "Epoch 57/80\n",
      "414/414 [==============================] - 0s 29us/sample - loss: 87.9580 - mean_absolute_error: 6.7244 - mean_squared_error: 87.9580\n",
      "Epoch 58/80\n",
      "414/414 [==============================] - 0s 29us/sample - loss: 87.7580 - mean_absolute_error: 6.6752 - mean_squared_error: 87.7580\n",
      "Epoch 59/80\n",
      "414/414 [==============================] - 0s 29us/sample - loss: 87.6155 - mean_absolute_error: 6.6978 - mean_squared_error: 87.6154\n",
      "Epoch 60/80\n",
      "414/414 [==============================] - 0s 31us/sample - loss: 87.4292 - mean_absolute_error: 6.6308 - mean_squared_error: 87.4292\n",
      "Epoch 61/80\n",
      "414/414 [==============================] - 0s 36us/sample - loss: 87.1647 - mean_absolute_error: 6.6502 - mean_squared_error: 87.1647\n",
      "Epoch 62/80\n",
      "414/414 [==============================] - 0s 36us/sample - loss: 87.0084 - mean_absolute_error: 6.6526 - mean_squared_error: 87.0084\n",
      "Epoch 63/80\n",
      "414/414 [==============================] - 0s 36us/sample - loss: 86.8670 - mean_absolute_error: 6.6218 - mean_squared_error: 86.8670\n",
      "Epoch 64/80\n",
      "414/414 [==============================] - 0s 36us/sample - loss: 86.7010 - mean_absolute_error: 6.6240 - mean_squared_error: 86.7010\n",
      "Epoch 65/80\n",
      "414/414 [==============================] - 0s 39us/sample - loss: 86.6165 - mean_absolute_error: 6.6449 - mean_squared_error: 86.6165\n",
      "Epoch 66/80\n",
      "414/414 [==============================] - 0s 34us/sample - loss: 86.5450 - mean_absolute_error: 6.5980 - mean_squared_error: 86.5450\n",
      "Epoch 67/80\n",
      "414/414 [==============================] - 0s 31us/sample - loss: 86.2413 - mean_absolute_error: 6.5889 - mean_squared_error: 86.2413\n",
      "Epoch 68/80\n",
      "414/414 [==============================] - 0s 31us/sample - loss: 86.0718 - mean_absolute_error: 6.5681 - mean_squared_error: 86.0718\n",
      "Epoch 69/80\n",
      "414/414 [==============================] - 0s 31us/sample - loss: 86.0393 - mean_absolute_error: 6.5719 - mean_squared_error: 86.0393\n",
      "Epoch 70/80\n",
      "414/414 [==============================] - 0s 34us/sample - loss: 85.8159 - mean_absolute_error: 6.5754 - mean_squared_error: 85.8159\n",
      "Epoch 71/80\n",
      "414/414 [==============================] - 0s 31us/sample - loss: 85.8833 - mean_absolute_error: 6.5529 - mean_squared_error: 85.8833\n",
      "Epoch 72/80\n",
      "414/414 [==============================] - 0s 34us/sample - loss: 85.6118 - mean_absolute_error: 6.5541 - mean_squared_error: 85.6118\n",
      "Epoch 73/80\n",
      "414/414 [==============================] - 0s 34us/sample - loss: 85.5004 - mean_absolute_error: 6.5532 - mean_squared_error: 85.5004\n",
      "Epoch 74/80\n",
      "414/414 [==============================] - 0s 29us/sample - loss: 85.4184 - mean_absolute_error: 6.5230 - mean_squared_error: 85.4184\n",
      "Epoch 75/80\n",
      "414/414 [==============================] - 0s 34us/sample - loss: 85.2093 - mean_absolute_error: 6.5369 - mean_squared_error: 85.2093\n",
      "Epoch 76/80\n",
      "414/414 [==============================] - 0s 34us/sample - loss: 85.1984 - mean_absolute_error: 6.5266 - mean_squared_error: 85.1984\n",
      "Epoch 77/80\n",
      "414/414 [==============================] - 0s 29us/sample - loss: 85.1484 - mean_absolute_error: 6.5100 - mean_squared_error: 85.1484\n",
      "Epoch 78/80\n",
      "414/414 [==============================] - 0s 26us/sample - loss: 84.9540 - mean_absolute_error: 6.5362 - mean_squared_error: 84.9540\n",
      "Epoch 79/80\n",
      "414/414 [==============================] - 0s 26us/sample - loss: 84.8996 - mean_absolute_error: 6.5200 - mean_squared_error: 84.8996\n",
      "Epoch 80/80\n",
      "414/414 [==============================] - 0s 36us/sample - loss: 84.7856 - mean_absolute_error: 6.5134 - mean_squared_error: 84.7856\n"
     ]
    },
    {
     "data": {
      "text/plain": [
       "<tensorflow.python.keras.callbacks.History at 0x12efa734e08>"
      ]
     },
     "execution_count": 30,
     "metadata": {},
     "output_type": "execute_result"
    }
   ],
   "source": [
    "model = tf.keras.Sequential([\n",
    "    tf.keras.layers.Dense(1, activation = 'linear', input_shape=[6])\n",
    "])\n",
    "optimizer = tf.keras.optimizers.SGD(0.01)\n",
    "model.compile(loss = 'mean_squared_error',\n",
    "              optimizer = optimizer,\n",
    "              metrics = ['mean_absolute_error', 'mean_squared_error'])\n",
    "model.fit(Xnn, ynn, epochs = 80)"
   ]
  },
  {
   "cell_type": "code",
   "execution_count": 31,
   "metadata": {},
   "outputs": [
    {
     "data": {
      "text/plain": [
       "[<matplotlib.lines.Line2D at 0x12efaa53988>]"
      ]
     },
     "execution_count": 31,
     "metadata": {},
     "output_type": "execute_result"
    },
    {
     "data": {
      "image/png": "[encoded data removed]",
      "text/plain": [
       "<Figure size 432x288 with 1 Axes>"
      ]
     },
     "metadata": {
      "needs_background": "light"
     },
     "output_type": "display_data"
    }
   ],
   "source": [
    "plt.plot(model.history.epoch, model.history.history['loss'])"
   ]
  },
  {
   "cell_type": "code",
   "execution_count": 32,
   "metadata": {},
   "outputs": [
    {
     "data": {
      "text/plain": [
       "84.63828301314209"
      ]
     },
     "execution_count": 32,
     "metadata": {},
     "output_type": "execute_result"
    }
   ],
   "source": [
    "mean_squared_error(y.values, np.array(model.predict(Xnn)).ravel())"
   ]
  },
  {
   "cell_type": "code",
   "execution_count": 33,
   "metadata": {},
   "outputs": [
    {
     "data": {
      "text/plain": [
       "0.5417261593449861"
      ]
     },
     "execution_count": 33,
     "metadata": {},
     "output_type": "execute_result"
    }
   ],
   "source": [
    "r2_score(y.values, np.array(model.predict(Xnn)).ravel())"
   ]
  },
  {
   "cell_type": "markdown",
   "metadata": {},
   "source": [
    "#### TensorFlow.Keras Deep Learning"
   ]
  },
  {
   "cell_type": "code",
   "execution_count": 42,
   "metadata": {},
   "outputs": [
    {
     "data": {
      "text/plain": [
       "MinMaxScaler(copy=True, feature_range=(0, 1))"
      ]
     },
     "execution_count": 42,
     "metadata": {},
     "output_type": "execute_result"
    }
   ],
   "source": [
    "from sklearn.preprocessing import MinMaxScaler\n",
    "from sklearn.model_selection import train_test_split\n",
    "\n",
    "X_train, X_test, y_train, y_test = train_test_split(X, y, test_size = 0.3, random_state = 42)\n",
    "\n",
    "scaler = MinMaxScaler()\n",
    "scaler.fit(X_train)"
   ]
  },
  {
   "cell_type": "code",
   "execution_count": 43,
   "metadata": {},
   "outputs": [],
   "source": [
    "X_train_minmax = scaler.transform(X_train)\n",
    "X_test_minmax = scaler.transform(X_test)"
   ]
  },
  {
   "cell_type": "code",
   "execution_count": 44,
   "metadata": {},
   "outputs": [],
   "source": [
    "X_train_minmax = sm.add_constant(X_train_minmax, prepend=False)\n",
    "X_test_minmax = sm.add_constant(X_test_minmax, prepend=False)"
   ]
  },
  {
   "cell_type": "code",
   "execution_count": 45,
   "metadata": {
    "collapsed": true
   },
   "outputs": [
    {
     "name": "stdout",
     "output_type": "stream",
     "text": [
      "Train on 289 samples\n",
      "Epoch 1/50\n",
      "289/289 [==============================] - 0s 1ms/sample - loss: 1417.4486 - mean_squared_error: 1417.4485\n",
      "Epoch 2/50\n",
      "289/289 [==============================] - 0s 41us/sample - loss: 369.6510 - mean_squared_error: 369.6509\n",
      "Epoch 3/50\n",
      "289/289 [==============================] - 0s 45us/sample - loss: 273.5345 - mean_squared_error: 273.5345\n",
      "Epoch 4/50\n",
      "289/289 [==============================] - 0s 52us/sample - loss: 201.6184 - mean_squared_error: 201.6184\n",
      "Epoch 5/50\n",
      "289/289 [==============================] - 0s 48us/sample - loss: 136.8303 - mean_squared_error: 136.8303\n",
      "Epoch 6/50\n",
      "289/289 [==============================] - 0s 52us/sample - loss: 118.8896 - mean_squared_error: 118.8896\n",
      "Epoch 7/50\n",
      "289/289 [==============================] - 0s 52us/sample - loss: 106.5707 - mean_squared_error: 106.5707\n",
      "Epoch 8/50\n",
      "289/289 [==============================] - 0s 52us/sample - loss: 106.1355 - mean_squared_error: 106.1355\n",
      "Epoch 9/50\n",
      "289/289 [==============================] - 0s 48us/sample - loss: 98.2745 - mean_squared_error: 98.2745\n",
      "Epoch 10/50\n",
      "289/289 [==============================] - 0s 48us/sample - loss: 93.1996 - mean_squared_error: 93.1996\n",
      "Epoch 11/50\n",
      "289/289 [==============================] - 0s 52us/sample - loss: 90.7836 - mean_squared_error: 90.7836\n",
      "Epoch 12/50\n",
      "289/289 [==============================] - 0s 48us/sample - loss: 90.8065 - mean_squared_error: 90.8065\n",
      "Epoch 13/50\n",
      "289/289 [==============================] - 0s 48us/sample - loss: 89.8139 - mean_squared_error: 89.8139\n",
      "Epoch 14/50\n",
      "289/289 [==============================] - 0s 52us/sample - loss: 87.2888 - mean_squared_error: 87.2888\n",
      "Epoch 15/50\n",
      "289/289 [==============================] - 0s 52us/sample - loss: 84.6130 - mean_squared_error: 84.6130\n",
      "Epoch 16/50\n",
      "289/289 [==============================] - 0s 55us/sample - loss: 85.9935 - mean_squared_error: 85.9935\n",
      "Epoch 17/50\n",
      "289/289 [==============================] - 0s 59us/sample - loss: 84.2700 - mean_squared_error: 84.2700\n",
      "Epoch 18/50\n",
      "289/289 [==============================] - 0s 52us/sample - loss: 84.0978 - mean_squared_error: 84.0978\n",
      "Epoch 19/50\n",
      "289/289 [==============================] - ETA: 0s - loss: 33.6458 - mean_squared_error: 33.64 - 0s 55us/sample - loss: 83.8161 - mean_squared_error: 83.8161\n",
      "Epoch 20/50\n",
      "289/289 [==============================] - 0s 52us/sample - loss: 86.7847 - mean_squared_error: 86.7847\n",
      "Epoch 21/50\n",
      "289/289 [==============================] - 0s 55us/sample - loss: 82.5426 - mean_squared_error: 82.5426\n",
      "Epoch 22/50\n",
      "289/289 [==============================] - 0s 48us/sample - loss: 84.9819 - mean_squared_error: 84.9819\n",
      "Epoch 23/50\n",
      "289/289 [==============================] - 0s 52us/sample - loss: 80.7274 - mean_squared_error: 80.7274\n",
      "Epoch 24/50\n",
      "289/289 [==============================] - 0s 48us/sample - loss: 84.5170 - mean_squared_error: 84.5170\n",
      "Epoch 25/50\n",
      "289/289 [==============================] - 0s 59us/sample - loss: 80.4958 - mean_squared_error: 80.4958\n",
      "Epoch 26/50\n",
      "289/289 [==============================] - 0s 52us/sample - loss: 91.2925 - mean_squared_error: 91.2925\n",
      "Epoch 27/50\n",
      "289/289 [==============================] - 0s 48us/sample - loss: 84.0961 - mean_squared_error: 84.0961\n",
      "Epoch 28/50\n",
      "289/289 [==============================] - 0s 35us/sample - loss: 82.1278 - mean_squared_error: 82.1278\n",
      "Epoch 29/50\n",
      "289/289 [==============================] - 0s 48us/sample - loss: 80.0538 - mean_squared_error: 80.0538\n",
      "Epoch 30/50\n",
      "289/289 [==============================] - 0s 45us/sample - loss: 85.4851 - mean_squared_error: 85.4851\n",
      "Epoch 31/50\n",
      "289/289 [==============================] - 0s 41us/sample - loss: 82.5200 - mean_squared_error: 82.5200\n",
      "Epoch 32/50\n",
      "289/289 [==============================] - 0s 38us/sample - loss: 81.3487 - mean_squared_error: 81.3487\n",
      "Epoch 33/50\n",
      "289/289 [==============================] - 0s 38us/sample - loss: 85.8138 - mean_squared_error: 85.8138\n",
      "Epoch 34/50\n",
      "289/289 [==============================] - 0s 41us/sample - loss: 76.6028 - mean_squared_error: 76.6028\n",
      "Epoch 35/50\n",
      "289/289 [==============================] - 0s 38us/sample - loss: 78.6848 - mean_squared_error: 78.6848\n",
      "Epoch 36/50\n",
      "289/289 [==============================] - 0s 38us/sample - loss: 78.9861 - mean_squared_error: 78.9861\n",
      "Epoch 37/50\n",
      "289/289 [==============================] - 0s 38us/sample - loss: 75.7462 - mean_squared_error: 75.7462\n",
      "Epoch 38/50\n",
      "289/289 [==============================] - 0s 35us/sample - loss: 75.9305 - mean_squared_error: 75.9305\n",
      "Epoch 39/50\n",
      "289/289 [==============================] - 0s 41us/sample - loss: 83.8735 - mean_squared_error: 83.8735\n",
      "Epoch 40/50\n",
      "289/289 [==============================] - 0s 41us/sample - loss: 79.8874 - mean_squared_error: 79.8874\n",
      "Epoch 41/50\n",
      "289/289 [==============================] - 0s 48us/sample - loss: 76.3755 - mean_squared_error: 76.3755\n",
      "Epoch 42/50\n",
      "289/289 [==============================] - 0s 41us/sample - loss: 88.6059 - mean_squared_error: 88.6059\n",
      "Epoch 43/50\n",
      "289/289 [==============================] - 0s 41us/sample - loss: 75.5642 - mean_squared_error: 75.5642\n",
      "Epoch 44/50\n",
      "289/289 [==============================] - 0s 35us/sample - loss: 78.2108 - mean_squared_error: 78.2108\n",
      "Epoch 45/50\n",
      "289/289 [==============================] - 0s 38us/sample - loss: 76.0073 - mean_squared_error: 76.0073\n",
      "Epoch 46/50\n",
      "289/289 [==============================] - 0s 35us/sample - loss: 75.3020 - mean_squared_error: 75.3020\n",
      "Epoch 47/50\n",
      "289/289 [==============================] - 0s 35us/sample - loss: 71.8171 - mean_squared_error: 71.8171\n",
      "Epoch 48/50\n",
      "289/289 [==============================] - 0s 35us/sample - loss: 72.6085 - mean_squared_error: 72.6085\n",
      "Epoch 49/50\n",
      "289/289 [==============================] - 0s 31us/sample - loss: 74.4558 - mean_squared_error: 74.4558\n",
      "Epoch 50/50\n",
      "289/289 [==============================] - 0s 31us/sample - loss: 70.8407 - mean_squared_error: 70.8407\n"
     ]
    },
    {
     "data": {
      "text/plain": [
       "<tensorflow.python.keras.callbacks.History at 0x12efc2d7688>"
      ]
     },
     "execution_count": 45,
     "metadata": {},
     "output_type": "execute_result"
    }
   ],
   "source": [
    "model = tf.keras.Sequential([\n",
    "    tf.keras.layers.Dense(64, activation = 'relu', input_shape=[6]),\n",
    "    tf.keras.layers.Dense(64, activation = 'relu', input_shape=[64]),\n",
    "    tf.keras.layers.Dense(1)\n",
    "])\n",
    "optimizer = tf.keras.optimizers.Adam(0.01)\n",
    "model.compile(loss = 'mean_squared_error',\n",
    "              optimizer = optimizer,\n",
    "              metrics = ['mean_squared_error'])\n",
    "model.fit(X_train_minmax, y_train.values, epochs = 50)"
   ]
  },
  {
   "cell_type": "code",
   "execution_count": 46,
   "metadata": {
    "scrolled": true
   },
   "outputs": [
    {
     "data": {
      "text/plain": [
       "[<matplotlib.lines.Line2D at 0x12efc7935c8>]"
      ]
     },
     "execution_count": 46,
     "metadata": {},
     "output_type": "execute_result"
    },
    {
     "data": {
      "image/png": "[encoded data removed]",
      "text/plain": [
       "<Figure size 432x288 with 1 Axes>"
      ]
     },
     "metadata": {
      "needs_background": "light"
     },
     "output_type": "display_data"
    }
   ],
   "source": [
    "plt.plot(model.history.epoch, model.history.history['loss'])"
   ]
  },
  {
   "cell_type": "code",
   "execution_count": 47,
   "metadata": {},
   "outputs": [],
   "source": [
    "y_train_pred = np.array(model.predict(X_train_minmax)).ravel()\n",
    "y_test_pred = np.array(model.predict(X_test_minmax)).ravel()"
   ]
  },
  {
   "cell_type": "code",
   "execution_count": 48,
   "metadata": {},
   "outputs": [
    {
     "data": {
      "text/plain": [
       "0.6360073978742543"
      ]
     },
     "execution_count": 48,
     "metadata": {},
     "output_type": "execute_result"
    }
   ],
   "source": [
    "r2_score(y_train, y_train_pred)"
   ]
  },
  {
   "cell_type": "code",
   "execution_count": 49,
   "metadata": {},
   "outputs": [
    {
     "data": {
      "text/plain": [
       "0.6584142389208574"
      ]
     },
     "execution_count": 49,
     "metadata": {},
     "output_type": "execute_result"
    }
   ],
   "source": [
    "r2_score(y_test, y_test_pred)"
   ]
  }
 ],
 "metadata": {
  "kernelspec": {
   "display_name": "Python 3",
   "language": "python",
   "name": "python3"
  },
  "language_info": {
   "codemirror_mode": {
    "name": "ipython",
    "version": 3
   },
   "file_extension": ".py",
   "mimetype": "text/x-python",
   "name": "python",
   "nbconvert_exporter": "python",
   "pygments_lexer": "ipython3",
   "version": "3.7.4"
  }
 },
 "nbformat": 4,
 "nbformat_minor": 2
}
