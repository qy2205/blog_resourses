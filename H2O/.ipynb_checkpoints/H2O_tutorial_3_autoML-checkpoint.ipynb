{
 "cells": [
  {
   "cell_type": "markdown",
   "metadata": {},
   "source": [
    "### H2O AutoML"
   ]
  },
  {
   "cell_type": "markdown",
   "metadata": {},
   "source": [
    "AutoML is a function in H2O that automates the process of building a large number of models, with the goal of finding the \"best\" model without any prior knowledge or effort by the Data Scientist.  \n",
    "\n",
    "The current version of AutoML (in H2O 3.16.*) trains and cross-validates a default Random Forest, an Extremely-Randomized Forest, a random grid of Gradient Boosting Machines (GBMs), a random grid of Deep Neural Nets, a fixed grid of GLMs, and then trains two Stacked Ensemble models at the end. One ensemble contains all the models (optimized for model performance), and the second ensemble contains just the best performing model from each algorithm class/family (optimized for production use)."
   ]
  },
  {
   "cell_type": "code",
   "execution_count": 1,
   "metadata": {},
   "outputs": [
    {
     "name": "stdout",
     "output_type": "stream",
     "text": [
      "Checking whether there is an H2O instance running at http://localhost:54321 ..... not found.\n",
      "Attempting to start a local H2O server...\n",
      "; OpenJDK 64-Bit Server VM AdoptOpenJDK (build 11.0.2+9, mixed mode)\n",
      "  Starting server from D:\\Anaconda\\lib\\site-packages\\h2o\\backend\\bin\\h2o.jar\n",
      "  Ice root: C:\\Users\\ERIC~1.YUA\\AppData\\Local\\Temp\\tmp5greonik\n",
      "  JVM stdout: C:\\Users\\ERIC~1.YUA\\AppData\\Local\\Temp\\tmp5greonik\\h2o_eric_yuan_started_from_python.out\n",
      "  JVM stderr: C:\\Users\\ERIC~1.YUA\\AppData\\Local\\Temp\\tmp5greonik\\h2o_eric_yuan_started_from_python.err\n",
      "  Server is running at http://127.0.0.1:54321\n",
      "Connecting to H2O server at http://127.0.0.1:54321 ... successful.\n"
     ]
    },
    {
     "data": {
      "text/html": [
       "<div style=\"overflow:auto\"><table style=\"width:50%\"><tr><td>H2O cluster uptime:</td>\n",
       "<td>01 secs</td></tr>\n",
       "<tr><td>H2O cluster timezone:</td>\n",
       "<td>America/New_York</td></tr>\n",
       "<tr><td>H2O data parsing timezone:</td>\n",
       "<td>UTC</td></tr>\n",
       "<tr><td>H2O cluster version:</td>\n",
       "<td>3.28.0.1</td></tr>\n",
       "<tr><td>H2O cluster version age:</td>\n",
       "<td>30 days </td></tr>\n",
       "<tr><td>H2O cluster name:</td>\n",
       "<td>H2O_from_python_eric_yuan_d19m8r</td></tr>\n",
       "<tr><td>H2O cluster total nodes:</td>\n",
       "<td>1</td></tr>\n",
       "<tr><td>H2O cluster free memory:</td>\n",
       "<td>3.975 Gb</td></tr>\n",
       "<tr><td>H2O cluster total cores:</td>\n",
       "<td>8</td></tr>\n",
       "<tr><td>H2O cluster allowed cores:</td>\n",
       "<td>8</td></tr>\n",
       "<tr><td>H2O cluster status:</td>\n",
       "<td>accepting new members, healthy</td></tr>\n",
       "<tr><td>H2O connection url:</td>\n",
       "<td>http://127.0.0.1:54321</td></tr>\n",
       "<tr><td>H2O connection proxy:</td>\n",
       "<td>{'http': None, 'https': None}</td></tr>\n",
       "<tr><td>H2O internal security:</td>\n",
       "<td>False</td></tr>\n",
       "<tr><td>H2O API Extensions:</td>\n",
       "<td>Amazon S3, Algos, AutoML, Core V3, TargetEncoder, Core V4</td></tr>\n",
       "<tr><td>Python version:</td>\n",
       "<td>3.7.4 final</td></tr></table></div>"
      ],
      "text/plain": [
       "--------------------------  ---------------------------------------------------------\n",
       "H2O cluster uptime:         01 secs\n",
       "H2O cluster timezone:       America/New_York\n",
       "H2O data parsing timezone:  UTC\n",
       "H2O cluster version:        3.28.0.1\n",
       "H2O cluster version age:    30 days\n",
       "H2O cluster name:           H2O_from_python_eric_yuan_d19m8r\n",
       "H2O cluster total nodes:    1\n",
       "H2O cluster free memory:    3.975 Gb\n",
       "H2O cluster total cores:    8\n",
       "H2O cluster allowed cores:  8\n",
       "H2O cluster status:         accepting new members, healthy\n",
       "H2O connection url:         http://127.0.0.1:54321\n",
       "H2O connection proxy:       {'http': None, 'https': None}\n",
       "H2O internal security:      False\n",
       "H2O API Extensions:         Amazon S3, Algos, AutoML, Core V3, TargetEncoder, Core V4\n",
       "Python version:             3.7.4 final\n",
       "--------------------------  ---------------------------------------------------------"
      ]
     },
     "metadata": {},
     "output_type": "display_data"
    }
   ],
   "source": [
    "import h2o\n",
    "from h2o.automl import H2OAutoML\n",
    "h2o.init()"
   ]
  },
  {
   "cell_type": "markdown",
   "metadata": {},
   "source": [
    "### Classification"
   ]
  },
  {
   "cell_type": "code",
   "execution_count": 8,
   "metadata": {},
   "outputs": [
    {
     "name": "stdout",
     "output_type": "stream",
     "text": [
      "Parse progress: |█████████████████████████████████████████████████████████| 100%\n"
     ]
    }
   ],
   "source": [
    "df = h2o.import_file('loan.csv')\n",
    "df['bad_loan'] = df['bad_loan'].asfactor()"
   ]
  },
  {
   "cell_type": "code",
   "execution_count": 9,
   "metadata": {},
   "outputs": [],
   "source": [
    "y = 'bad_loan'\n",
    "x = list(df.columns)\n",
    "# remove the response\n",
    "x.remove(y)\n",
    "# remove the interest rate column because it's correlated with the outcome\n",
    "x.remove('int_rate')"
   ]
  },
  {
   "cell_type": "markdown",
   "metadata": {},
   "source": [
    "* run the model  \n",
    "The max_models argument specifies the number of individual (or \"base\") models, and does not include the two ensemble models that are trained at the end."
   ]
  },
  {
   "cell_type": "code",
   "execution_count": 10,
   "metadata": {},
   "outputs": [
    {
     "name": "stdout",
     "output_type": "stream",
     "text": [
      "AutoML progress: |\n",
      "14:41:47.722: AutoML: XGBoost is not available; skipping it.\n",
      "\n",
      "████████████████████████████████████████████████████████| 100%\n"
     ]
    }
   ],
   "source": [
    "aml = H2OAutoML(max_models = 10, seed = 1)\n",
    "aml.train(x = x, y = y, training_frame = df)"
   ]
  },
  {
   "cell_type": "markdown",
   "metadata": {},
   "source": [
    "* leaderboard"
   ]
  },
  {
   "cell_type": "code",
   "execution_count": 11,
   "metadata": {},
   "outputs": [
    {
     "data": {
      "text/html": [
       "<table>\n",
       "<thead>\n",
       "<tr><th>model_id                                           </th><th style=\"text-align: right;\">     auc</th><th style=\"text-align: right;\">  logloss</th><th style=\"text-align: right;\">   aucpr</th><th style=\"text-align: right;\">  mean_per_class_error</th><th style=\"text-align: right;\">    rmse</th><th style=\"text-align: right;\">     mse</th></tr>\n",
       "</thead>\n",
       "<tbody>\n",
       "<tr><td>StackedEnsemble_AllModels_AutoML_20200116_144147   </td><td style=\"text-align: right;\">0.685387</td><td style=\"text-align: right;\"> 0.444791</td><td style=\"text-align: right;\">0.325564</td><td style=\"text-align: right;\">              0.366704</td><td style=\"text-align: right;\">0.37394 </td><td style=\"text-align: right;\">0.139831</td></tr>\n",
       "<tr><td>StackedEnsemble_BestOfFamily_AutoML_20200116_144147</td><td style=\"text-align: right;\">0.684397</td><td style=\"text-align: right;\"> 0.445114</td><td style=\"text-align: right;\">0.324195</td><td style=\"text-align: right;\">              0.366049</td><td style=\"text-align: right;\">0.37409 </td><td style=\"text-align: right;\">0.139943</td></tr>\n",
       "<tr><td>GBM_1_AutoML_20200116_144147                       </td><td style=\"text-align: right;\">0.68269 </td><td style=\"text-align: right;\"> 0.444099</td><td style=\"text-align: right;\">0.321073</td><td style=\"text-align: right;\">              0.368341</td><td style=\"text-align: right;\">0.373826</td><td style=\"text-align: right;\">0.139746</td></tr>\n",
       "<tr><td>GBM_2_AutoML_20200116_144147                       </td><td style=\"text-align: right;\">0.681843</td><td style=\"text-align: right;\"> 0.444419</td><td style=\"text-align: right;\">0.320672</td><td style=\"text-align: right;\">              0.368599</td><td style=\"text-align: right;\">0.373961</td><td style=\"text-align: right;\">0.139847</td></tr>\n",
       "<tr><td>GBM_3_AutoML_20200116_144147                       </td><td style=\"text-align: right;\">0.679967</td><td style=\"text-align: right;\"> 0.445154</td><td style=\"text-align: right;\">0.318167</td><td style=\"text-align: right;\">              0.369837</td><td style=\"text-align: right;\">0.374304</td><td style=\"text-align: right;\">0.140104</td></tr>\n",
       "<tr><td>GBM_grid__1_AutoML_20200116_144147_model_1         </td><td style=\"text-align: right;\">0.676778</td><td style=\"text-align: right;\"> 0.455592</td><td style=\"text-align: right;\">0.316477</td><td style=\"text-align: right;\">              0.372625</td><td style=\"text-align: right;\">0.378487</td><td style=\"text-align: right;\">0.143253</td></tr>\n",
       "<tr><td>GBM_5_AutoML_20200116_144147                       </td><td style=\"text-align: right;\">0.674414</td><td style=\"text-align: right;\"> 0.447373</td><td style=\"text-align: right;\">0.313482</td><td style=\"text-align: right;\">              0.373524</td><td style=\"text-align: right;\">0.375221</td><td style=\"text-align: right;\">0.140791</td></tr>\n",
       "<tr><td>GLM_1_AutoML_20200116_144147                       </td><td style=\"text-align: right;\">0.674163</td><td style=\"text-align: right;\"> 0.447619</td><td style=\"text-align: right;\">0.314141</td><td style=\"text-align: right;\">              0.373453</td><td style=\"text-align: right;\">0.374973</td><td style=\"text-align: right;\">0.140605</td></tr>\n",
       "<tr><td>GBM_4_AutoML_20200116_144147                       </td><td style=\"text-align: right;\">0.674056</td><td style=\"text-align: right;\"> 0.44777 </td><td style=\"text-align: right;\">0.311629</td><td style=\"text-align: right;\">              0.373953</td><td style=\"text-align: right;\">0.375489</td><td style=\"text-align: right;\">0.140992</td></tr>\n",
       "<tr><td>DeepLearning_1_AutoML_20200116_144147              </td><td style=\"text-align: right;\">0.670627</td><td style=\"text-align: right;\"> 0.44915 </td><td style=\"text-align: right;\">0.309202</td><td style=\"text-align: right;\">              0.375012</td><td style=\"text-align: right;\">0.375728</td><td style=\"text-align: right;\">0.141172</td></tr>\n",
       "<tr><td>XRT_1_AutoML_20200116_144147                       </td><td style=\"text-align: right;\">0.665531</td><td style=\"text-align: right;\"> 0.450289</td><td style=\"text-align: right;\">0.305019</td><td style=\"text-align: right;\">              0.381544</td><td style=\"text-align: right;\">0.376361</td><td style=\"text-align: right;\">0.141648</td></tr>\n",
       "<tr><td>DRF_1_AutoML_20200116_144147                       </td><td style=\"text-align: right;\">0.662757</td><td style=\"text-align: right;\"> 0.452675</td><td style=\"text-align: right;\">0.302974</td><td style=\"text-align: right;\">              0.382016</td><td style=\"text-align: right;\">0.377129</td><td style=\"text-align: right;\">0.142226</td></tr>\n",
       "</tbody>\n",
       "</table>"
      ]
     },
     "metadata": {},
     "output_type": "display_data"
    },
    {
     "data": {
      "text/plain": []
     },
     "execution_count": 11,
     "metadata": {},
     "output_type": "execute_result"
    }
   ],
   "source": [
    "lb = aml.leaderboard\n",
    "# set rows = lb.nrows to make sure we are viewing the whole leaderboard\n",
    "lb.head(rows = lb.nrows)"
   ]
  },
  {
   "cell_type": "markdown",
   "metadata": {},
   "source": [
    "* Ensemble Exploration"
   ]
  },
  {
   "cell_type": "code",
   "execution_count": 12,
   "metadata": {},
   "outputs": [],
   "source": [
    "# Get model ids for all models in the AutoML Leaderboard\n",
    "model_ids = list(aml.leaderboard['model_id'].as_data_frame().iloc[:,0])\n",
    "# Get the \"All Models\" Stacked Ensemble model\n",
    "se = h2o.get_model([mid for mid in model_ids if \"StackedEnsemble_AllModels\" in mid][0])\n",
    "# Get the Stacked Ensemble metalearner model\n",
    "metalearner = h2o.get_model(se.metalearner()['name'])"
   ]
  },
  {
   "cell_type": "markdown",
   "metadata": {},
   "source": [
    "Examine the variable importance of the metalearner (combiner) algorithm in the ensemble. This shows us how much each base learner is contributing to the ensemble. The AutoML Stacked Ensembles use the default metalearner algorithm (GLM with non-negative weights), so the variable importance of the metalearner is actually the standardized coefficient magnitudes of the GLM."
   ]
  },
  {
   "cell_type": "code",
   "execution_count": 25,
   "metadata": {
    "scrolled": true
   },
   "outputs": [
    {
     "data": {
      "text/plain": [
       "{'Intercept': -2.862149139561866,\n",
       " 'GBM_1_AutoML_20200116_144147': 1.0377256312897167,\n",
       " 'GBM_2_AutoML_20200116_144147': 0.8788526764811525,\n",
       " 'GBM_3_AutoML_20200116_144147': 0.5592781916044135,\n",
       " 'GBM_grid__1_AutoML_20200116_144147_model_1': 1.0173414987228273,\n",
       " 'GBM_5_AutoML_20200116_144147': 0.38183683443236327,\n",
       " 'GLM_1_AutoML_20200116_144147': 0.7096711102694062,\n",
       " 'GBM_4_AutoML_20200116_144147': 0.3670508256343875,\n",
       " 'DeepLearning_1_AutoML_20200116_144147': 1.0680026153829598,\n",
       " 'XRT_1_AutoML_20200116_144147': 0.5070725960843376,\n",
       " 'DRF_1_AutoML_20200116_144147': 0.3593000898694801}"
      ]
     },
     "execution_count": 25,
     "metadata": {},
     "output_type": "execute_result"
    }
   ],
   "source": [
    "metalearner.coef()"
   ]
  },
  {
   "cell_type": "markdown",
   "metadata": {},
   "source": [
    "### Regression"
   ]
  },
  {
   "cell_type": "code",
   "execution_count": 32,
   "metadata": {},
   "outputs": [
    {
     "name": "stdout",
     "output_type": "stream",
     "text": [
      "Parse progress: |█████████████████████████████████████████████████████████| 100%\n"
     ]
    }
   ],
   "source": [
    "data_path = \"https://github.com/h2oai/h2o-tutorials/raw/master/h2o-world-2017/automl/data/powerplant_output.csv\"\n",
    "df = h2o.import_file(data_path)"
   ]
  },
  {
   "cell_type": "code",
   "execution_count": 34,
   "metadata": {},
   "outputs": [
    {
     "name": "stdout",
     "output_type": "stream",
     "text": [
      "Rows:9568\n",
      "Cols:5\n",
      "\n",
      "\n"
     ]
    },
    {
     "data": {
      "text/html": [
       "<table>\n",
       "<thead>\n",
       "<tr><th>       </th><th>TemperatureCelcius  </th><th>ExhaustVacuumHg   </th><th>AmbientPressureMillibar  </th><th>RelativeHumidity  </th><th>HourlyEnergyOutputMW  </th></tr>\n",
       "</thead>\n",
       "<tbody>\n",
       "<tr><td>type   </td><td>real                </td><td>real              </td><td>real                     </td><td>real              </td><td>real                  </td></tr>\n",
       "<tr><td>mins   </td><td>1.81                </td><td>25.36             </td><td>992.89                   </td><td>25.56             </td><td>420.26                </td></tr>\n",
       "<tr><td>mean   </td><td>19.651231187290968  </td><td>54.30580372073578 </td><td>1013.2590781772575       </td><td>73.30897784280936 </td><td>454.36500940635455    </td></tr>\n",
       "<tr><td>maxs   </td><td>37.11               </td><td>81.56             </td><td>1033.3                   </td><td>100.16            </td><td>495.76                </td></tr>\n",
       "<tr><td>sigma  </td><td>7.452473229611079   </td><td>12.707892998326809</td><td>5.938783705811604        </td><td>14.600268756728953</td><td>17.066994999803416    </td></tr>\n",
       "<tr><td>zeros  </td><td>0                   </td><td>0                 </td><td>0                        </td><td>0                 </td><td>0                     </td></tr>\n",
       "<tr><td>missing</td><td>0                   </td><td>0                 </td><td>0                        </td><td>0                 </td><td>0                     </td></tr>\n",
       "<tr><td>0      </td><td>14.96               </td><td>41.76             </td><td>1024.07                  </td><td>73.17             </td><td>463.26                </td></tr>\n",
       "<tr><td>1      </td><td>25.18               </td><td>62.96             </td><td>1020.04                  </td><td>59.08             </td><td>444.37                </td></tr>\n",
       "<tr><td>2      </td><td>5.11                </td><td>39.4              </td><td>1012.16                  </td><td>92.14             </td><td>488.56                </td></tr>\n",
       "<tr><td>3      </td><td>20.86               </td><td>57.32             </td><td>1010.24                  </td><td>76.64             </td><td>446.48                </td></tr>\n",
       "<tr><td>4      </td><td>10.82               </td><td>37.5              </td><td>1009.23                  </td><td>96.62             </td><td>473.9                 </td></tr>\n",
       "<tr><td>5      </td><td>26.27               </td><td>59.44             </td><td>1012.23                  </td><td>58.77             </td><td>443.67                </td></tr>\n",
       "<tr><td>6      </td><td>15.89               </td><td>43.96             </td><td>1014.02                  </td><td>75.24             </td><td>467.35                </td></tr>\n",
       "<tr><td>7      </td><td>9.48                </td><td>44.71             </td><td>1019.12                  </td><td>66.43             </td><td>478.42                </td></tr>\n",
       "<tr><td>8      </td><td>14.64               </td><td>45.0              </td><td>1021.78                  </td><td>41.25             </td><td>475.98                </td></tr>\n",
       "<tr><td>9      </td><td>11.74               </td><td>43.56             </td><td>1015.14                  </td><td>70.72             </td><td>477.5                 </td></tr>\n",
       "</tbody>\n",
       "</table>"
      ]
     },
     "metadata": {},
     "output_type": "display_data"
    }
   ],
   "source": [
    "df.describe()"
   ]
  },
  {
   "cell_type": "code",
   "execution_count": 35,
   "metadata": {},
   "outputs": [],
   "source": [
    "y = \"HourlyEnergyOutputMW\""
   ]
  },
  {
   "cell_type": "code",
   "execution_count": 36,
   "metadata": {},
   "outputs": [],
   "source": [
    "splits = df.split_frame(ratios = [0.8], seed = 1)\n",
    "train = splits[0]\n",
    "test = splits[1]"
   ]
  },
  {
   "cell_type": "code",
   "execution_count": 37,
   "metadata": {},
   "outputs": [
    {
     "name": "stdout",
     "output_type": "stream",
     "text": [
      "AutoML progress: |\n",
      "14:58:35.810: AutoML: XGBoost is not available; skipping it.\n",
      "\n",
      "██████████████████████████████████████████████████Failed polling AutoML progress log: HTTP 500 Server Error:\n",
      "Server error java.lang.ArrayIndexOutOfBoundsException:\n",
      "  Error: Index 72 out of bounds for length 72\n",
      "  Request: None\n",
      "\n",
      "██████| 100%\n"
     ]
    }
   ],
   "source": [
    "aml = H2OAutoML(max_runtime_secs = 60, seed = 1, project_name = \"powerplant_lb_frame\")\n",
    "aml.train(y = y, training_frame = train, leaderboard_frame = test)"
   ]
  },
  {
   "cell_type": "code",
   "execution_count": 38,
   "metadata": {},
   "outputs": [
    {
     "data": {
      "text/html": [
       "<table>\n",
       "<thead>\n",
       "<tr><th>model_id                                  </th><th style=\"text-align: right;\">  mean_residual_deviance</th><th style=\"text-align: right;\">   rmse</th><th style=\"text-align: right;\">    mse</th><th style=\"text-align: right;\">    mae</th><th style=\"text-align: right;\">     rmsle</th></tr>\n",
       "</thead>\n",
       "<tbody>\n",
       "<tr><td>GBM_4_AutoML_20200116_145835              </td><td style=\"text-align: right;\">                 10.4855</td><td style=\"text-align: right;\">3.23813</td><td style=\"text-align: right;\">10.4855</td><td style=\"text-align: right;\">2.24599</td><td style=\"text-align: right;\">0.00713297</td></tr>\n",
       "<tr><td>GBM_3_AutoML_20200116_145835              </td><td style=\"text-align: right;\">                 11.1887</td><td style=\"text-align: right;\">3.34496</td><td style=\"text-align: right;\">11.1887</td><td style=\"text-align: right;\">2.35355</td><td style=\"text-align: right;\">0.00736291</td></tr>\n",
       "<tr><td>GBM_grid__1_AutoML_20200116_145835_model_1</td><td style=\"text-align: right;\">                 11.3694</td><td style=\"text-align: right;\">3.37186</td><td style=\"text-align: right;\">11.3694</td><td style=\"text-align: right;\">2.36821</td><td style=\"text-align: right;\">0.00742649</td></tr>\n",
       "<tr><td>GBM_2_AutoML_20200116_145835              </td><td style=\"text-align: right;\">                 11.4439</td><td style=\"text-align: right;\">3.38288</td><td style=\"text-align: right;\">11.4439</td><td style=\"text-align: right;\">2.39635</td><td style=\"text-align: right;\">0.0074478 </td></tr>\n",
       "<tr><td>GBM_1_AutoML_20200116_145835              </td><td style=\"text-align: right;\">                 11.8546</td><td style=\"text-align: right;\">3.44305</td><td style=\"text-align: right;\">11.8546</td><td style=\"text-align: right;\">2.40537</td><td style=\"text-align: right;\">0.00758284</td></tr>\n",
       "<tr><td>DRF_1_AutoML_20200116_145835              </td><td style=\"text-align: right;\">                 12.1175</td><td style=\"text-align: right;\">3.48102</td><td style=\"text-align: right;\">12.1175</td><td style=\"text-align: right;\">2.45802</td><td style=\"text-align: right;\">0.0076833 </td></tr>\n",
       "<tr><td>XRT_1_AutoML_20200116_145835              </td><td style=\"text-align: right;\">                 12.1331</td><td style=\"text-align: right;\">3.48327</td><td style=\"text-align: right;\">12.1331</td><td style=\"text-align: right;\">2.464  </td><td style=\"text-align: right;\">0.00768583</td></tr>\n",
       "<tr><td>GBM_grid__1_AutoML_20200116_145835_model_7</td><td style=\"text-align: right;\">                 12.7733</td><td style=\"text-align: right;\">3.57398</td><td style=\"text-align: right;\">12.7733</td><td style=\"text-align: right;\">2.57113</td><td style=\"text-align: right;\">0.00787061</td></tr>\n",
       "<tr><td>GBM_5_AutoML_20200116_145835              </td><td style=\"text-align: right;\">                 13.1665</td><td style=\"text-align: right;\">3.62857</td><td style=\"text-align: right;\">13.1665</td><td style=\"text-align: right;\">2.62643</td><td style=\"text-align: right;\">0.0079734 </td></tr>\n",
       "<tr><td>GBM_grid__1_AutoML_20200116_145835_model_5</td><td style=\"text-align: right;\">                 13.7594</td><td style=\"text-align: right;\">3.70937</td><td style=\"text-align: right;\">13.7594</td><td style=\"text-align: right;\">2.70828</td><td style=\"text-align: right;\">0.00815945</td></tr>\n",
       "</tbody>\n",
       "</table>"
      ]
     },
     "metadata": {},
     "output_type": "display_data"
    },
    {
     "data": {
      "text/plain": []
     },
     "execution_count": 38,
     "metadata": {},
     "output_type": "execute_result"
    }
   ],
   "source": [
    "aml.leaderboard.head()"
   ]
  },
  {
   "cell_type": "code",
   "execution_count": 39,
   "metadata": {},
   "outputs": [
    {
     "name": "stdout",
     "output_type": "stream",
     "text": [
      "gbm prediction progress: |████████████████████████████████████████████████| 100%\n"
     ]
    },
    {
     "data": {
      "text/html": [
       "<table>\n",
       "<thead>\n",
       "<tr><th style=\"text-align: right;\">  predict</th></tr>\n",
       "</thead>\n",
       "<tbody>\n",
       "<tr><td style=\"text-align: right;\">  486.333</td></tr>\n",
       "<tr><td style=\"text-align: right;\">  473.891</td></tr>\n",
       "<tr><td style=\"text-align: right;\">  466.384</td></tr>\n",
       "<tr><td style=\"text-align: right;\">  452.318</td></tr>\n",
       "<tr><td style=\"text-align: right;\">  447.87 </td></tr>\n",
       "<tr><td style=\"text-align: right;\">  469.437</td></tr>\n",
       "<tr><td style=\"text-align: right;\">  442.477</td></tr>\n",
       "<tr><td style=\"text-align: right;\">  464.248</td></tr>\n",
       "<tr><td style=\"text-align: right;\">  442.807</td></tr>\n",
       "<tr><td style=\"text-align: right;\">  431.665</td></tr>\n",
       "</tbody>\n",
       "</table>"
      ]
     },
     "metadata": {},
     "output_type": "display_data"
    },
    {
     "data": {
      "text/plain": []
     },
     "execution_count": 39,
     "metadata": {},
     "output_type": "execute_result"
    }
   ],
   "source": [
    "pred = aml.predict(test)\n",
    "pred.head()"
   ]
  },
  {
   "cell_type": "code",
   "execution_count": 40,
   "metadata": {},
   "outputs": [
    {
     "name": "stdout",
     "output_type": "stream",
     "text": [
      "\n",
      "ModelMetricsRegression: gbm\n",
      "** Reported on test data. **\n",
      "\n",
      "MSE: 10.48551445955257\n",
      "RMSE: 3.238134410359238\n",
      "MAE: 2.2459942869807\n",
      "RMSLE: 0.007132968640986882\n",
      "Mean Residual Deviance: 10.48551445955257\n"
     ]
    },
    {
     "data": {
      "text/plain": []
     },
     "execution_count": 40,
     "metadata": {},
     "output_type": "execute_result"
    }
   ],
   "source": [
    "perf = aml.leader.model_performance(test)\n",
    "perf"
   ]
  }
 ],
 "metadata": {
  "kernelspec": {
   "display_name": "Python 3",
   "language": "python",
   "name": "python3"
  },
  "language_info": {
   "codemirror_mode": {
    "name": "ipython",
    "version": 3
   },
   "file_extension": ".py",
   "mimetype": "text/x-python",
   "name": "python",
   "nbconvert_exporter": "python",
   "pygments_lexer": "ipython3",
   "version": "3.7.4"
  }
 },
 "nbformat": 4,
 "nbformat_minor": 2
}
