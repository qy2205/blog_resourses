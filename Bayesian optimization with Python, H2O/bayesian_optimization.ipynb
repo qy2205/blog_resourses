{
 "cells": [
  {
   "cell_type": "markdown",
   "metadata": {},
   "source": [
    "## Bayesian optimization with Python, H2O"
   ]
  },
  {
   "cell_type": "code",
   "execution_count": 6,
   "metadata": {},
   "outputs": [],
   "source": [
    "# install and import packages (make sure you have installed Java)\n",
    "# !pip install bayesian-optimization\n",
    "# !pip install h2o\n",
    "import h2o\n",
    "from h2o.estimators.gbm import H2OGradientBoostingEstimator\n",
    "from bayes_opt import BayesianOptimization"
   ]
  },
  {
   "cell_type": "code",
   "execution_count": 8,
   "metadata": {
    "scrolled": false
   },
   "outputs": [
    {
     "name": "stdout",
     "output_type": "stream",
     "text": [
      "Checking whether there is an H2O instance running at http://localhost:54321 ..... not found.\n",
      "Attempting to start a local H2O server...\n",
      "; Java HotSpot(TM) 64-Bit Server VM (build 13.0.1+9, mixed mode, sharing)\n",
      "  Starting server from X:\\Anaconda3\\lib\\site-packages\\h2o\\backend\\bin\\h2o.jar\n",
      "  Ice root: C:\\Users\\quany\\AppData\\Local\\Temp\\tmpx6umusj0\n",
      "  JVM stdout: C:\\Users\\quany\\AppData\\Local\\Temp\\tmpx6umusj0\\h2o_quany_started_from_python.out\n",
      "  JVM stderr: C:\\Users\\quany\\AppData\\Local\\Temp\\tmpx6umusj0\\h2o_quany_started_from_python.err\n",
      "  Server is running at http://127.0.0.1:54321\n",
      "Connecting to H2O server at http://127.0.0.1:54321 ... successful.\n"
     ]
    },
    {
     "data": {
      "text/html": [
       "<div style=\"overflow:auto\"><table style=\"width:50%\"><tr><td>H2O cluster uptime:</td>\n",
       "<td>02 secs</td></tr>\n",
       "<tr><td>H2O cluster timezone:</td>\n",
       "<td>America/New_York</td></tr>\n",
       "<tr><td>H2O data parsing timezone:</td>\n",
       "<td>UTC</td></tr>\n",
       "<tr><td>H2O cluster version:</td>\n",
       "<td>3.28.0.1</td></tr>\n",
       "<tr><td>H2O cluster version age:</td>\n",
       "<td>25 days </td></tr>\n",
       "<tr><td>H2O cluster name:</td>\n",
       "<td>H2O_from_python_quany_qvstr7</td></tr>\n",
       "<tr><td>H2O cluster total nodes:</td>\n",
       "<td>1</td></tr>\n",
       "<tr><td>H2O cluster free memory:</td>\n",
       "<td>3.959 Gb</td></tr>\n",
       "<tr><td>H2O cluster total cores:</td>\n",
       "<td>16</td></tr>\n",
       "<tr><td>H2O cluster allowed cores:</td>\n",
       "<td>16</td></tr>\n",
       "<tr><td>H2O cluster status:</td>\n",
       "<td>accepting new members, healthy</td></tr>\n",
       "<tr><td>H2O connection url:</td>\n",
       "<td>http://127.0.0.1:54321</td></tr>\n",
       "<tr><td>H2O connection proxy:</td>\n",
       "<td>{'http': None, 'https': None}</td></tr>\n",
       "<tr><td>H2O internal security:</td>\n",
       "<td>False</td></tr>\n",
       "<tr><td>H2O API Extensions:</td>\n",
       "<td>Amazon S3, Algos, AutoML, Core V3, TargetEncoder, Core V4</td></tr>\n",
       "<tr><td>Python version:</td>\n",
       "<td>3.7.4 final</td></tr></table></div>"
      ],
      "text/plain": [
       "--------------------------  ---------------------------------------------------------\n",
       "H2O cluster uptime:         02 secs\n",
       "H2O cluster timezone:       America/New_York\n",
       "H2O data parsing timezone:  UTC\n",
       "H2O cluster version:        3.28.0.1\n",
       "H2O cluster version age:    25 days\n",
       "H2O cluster name:           H2O_from_python_quany_qvstr7\n",
       "H2O cluster total nodes:    1\n",
       "H2O cluster free memory:    3.959 Gb\n",
       "H2O cluster total cores:    16\n",
       "H2O cluster allowed cores:  16\n",
       "H2O cluster status:         accepting new members, healthy\n",
       "H2O connection url:         http://127.0.0.1:54321\n",
       "H2O connection proxy:       {'http': None, 'https': None}\n",
       "H2O internal security:      False\n",
       "H2O API Extensions:         Amazon S3, Algos, AutoML, Core V3, TargetEncoder, Core V4\n",
       "Python version:             3.7.4 final\n",
       "--------------------------  ---------------------------------------------------------"
      ]
     },
     "metadata": {},
     "output_type": "display_data"
    }
   ],
   "source": [
    "# start h2o\n",
    "h2o.init()\n",
    "h2o.remove_all()"
   ]
  },
  {
   "cell_type": "code",
   "execution_count": 9,
   "metadata": {},
   "outputs": [
    {
     "name": "stdout",
     "output_type": "stream",
     "text": [
      "Parse progress: |█████████████████████████████████████████████████████████| 100%\n"
     ]
    }
   ],
   "source": [
    "# load dataset\n",
    "data = h2o.upload_file(\"winequality-red.csv\")"
   ]
  },
  {
   "cell_type": "code",
   "execution_count": 10,
   "metadata": {},
   "outputs": [],
   "source": [
    "# train test split\n",
    "train, test = data.split_frame(ratios = [0.7], destination_frames = ['train', 'test'])"
   ]
  },
  {
   "cell_type": "markdown",
   "metadata": {},
   "source": [
    "Suppose we want to tune the following parameters:  \n",
    "max_depth, ntrees, min_rows, learn_rate, sample_rate, col_sample_rate  \n",
    "\n",
    "BayesianOptimization packages need two parts for achieving that  \n",
    "(1) The Target function  \n",
    "(2) The boundary of parameters  "
   ]
  },
  {
   "cell_type": "code",
   "execution_count": 63,
   "metadata": {},
   "outputs": [],
   "source": [
    "# The Target function\n",
    "def GBDT_h2o(max_depth, ntrees, min_rows, learn_rate, sample_rate, \\\n",
    "             data = train, xcols = train.columns[:-1], ycol = 'quality'):\n",
    "    params = {'max_depth': int(max_depth),\n",
    "              'ntrees': int(ntrees),\n",
    "              'min_rows': int(min_rows),\n",
    "              'learn_rate': learn_rate,\n",
    "              'sample_rate': sample_rate}\n",
    "    # not specify nfolds = 5\n",
    "    model = H2OGradientBoostingEstimator(**params)\n",
    "    model.train(x = xcols, y = ycol, training_frame = data, validation_frame = test)\n",
    "#     train_rmse = - model.rmse()\n",
    "    test_rmse = - model.rmse(valid=True)\n",
    "    return test_rmse\n",
    "\n",
    "# Optimization boundaries\n",
    "bounds = {'max_depth':(3, 8),\n",
    "          'ntrees': (300, 800),\n",
    "          'min_rows': (5, 10),\n",
    "          'learn_rate': (0.01, 0.05),\n",
    "          'sample_rate': (0.8, 1)}"
   ]
  },
  {
   "cell_type": "code",
   "execution_count": 64,
   "metadata": {
    "scrolled": false
   },
   "outputs": [
    {
     "name": "stdout",
     "output_type": "stream",
     "text": [
      "|   iter    |  target   | learn_... | max_depth | min_rows  |  ntrees   | sample... |\n",
      "-------------------------------------------------------------------------------------\n",
      "gbm Model Build progress: |███████████████████████████████████████████████| 100%\n",
      "|  1        | -0.5718   |  0.04945  |  7.367    |  7.549    |  435.9    |  0.8674   |\n",
      "gbm Model Build progress: |███████████████████████████████████████████████| 100%\n",
      "|  2        | -0.5827   |  0.01868  |  4.382    |  6.717    |  731.1    |  0.8313   |\n",
      "gbm Model Build progress: |███████████████████████████████████████████████| 100%\n",
      "|  3        | -0.5708   |  0.01564  |  6.785    |  8.682    |  477.8    |  0.8682   |\n",
      "gbm Model Build progress: |███████████████████████████████████████████████| 100%\n",
      "|  4        | -0.5796   |  0.03667  |  4.086    |  7.807    |  362.1    |  0.8639   |\n",
      "gbm Model Build progress: |███████████████████████████████████████████████| 100%\n",
      "|  5        | -0.5954   |  0.04813  |  3.687    |  7.847    |  787.8    |  0.9007   |\n",
      "gbm Model Build progress: |███████████████████████████████████████████████| 100%\n",
      "|  6        | -0.5944   |  0.04496  |  3.046    |  5.01     |  548.2    |  0.8695   |\n",
      "gbm Model Build progress: |███████████████████████████████████████████████| 100%\n",
      "|  7        | -0.5785   |  0.01366  |  7.912    |  9.981    |  300.5    |  0.9784   |\n",
      "gbm Model Build progress: |███████████████████████████████████████████████| 100%\n",
      "|  8        | -0.5798   |  0.04055  |  7.891    |  9.995    |  647.1    |  0.8996   |\n",
      "gbm Model Build progress: |███████████████████████████████████████████████| 100%\n",
      "|  9        | -0.5913   |  0.03792  |  3.181    |  9.985    |  449.0    |  0.9515   |\n",
      "gbm Model Build progress: |███████████████████████████████████████████████| 100%\n",
      "|  10       | -0.5857   |  0.05     |  8.0      |  10.0     |  370.5    |  1.0      |\n",
      "gbm Model Build progress: |███████████████████████████████████████████████| 100%\n",
      "|  11       | -0.5668   |  0.04026  |  7.982    |  5.0      |  321.7    |  0.8257   |\n",
      "gbm Model Build progress: |███████████████████████████████████████████████| 100%\n",
      "|  12       | -0.5669   |  0.03006  |  7.983    |  5.055    |  680.2    |  0.939    |\n",
      "gbm Model Build progress: |███████████████████████████████████████████████| 100%\n",
      "|  13       | -0.5735   |  0.05     |  7.919    |  5.085    |  479.0    |  0.9933   |\n",
      "gbm Model Build progress: |███████████████████████████████████████████████| 100%\n",
      "|  14       | -0.5767   |  0.03448  |  7.996    |  9.901    |  529.1    |  0.9322   |\n",
      "gbm Model Build progress: |███████████████████████████████████████████████| 100%\n",
      "|  15       | -0.5745   |  0.04907  |  7.985    |  5.332    |  596.2    |  0.8916   |\n",
      "gbm Model Build progress: |███████████████████████████████████████████████| 100%\n",
      "|  16       | -0.5941   |  0.0368   |  3.138    |  5.014    |  300.6    |  0.9859   |\n",
      "gbm Model Build progress: |███████████████████████████████████████████████| 100%\n",
      "|  17       | -0.5863   |  0.04908  |  3.003    |  9.974    |  691.5    |  0.8307   |\n",
      "gbm Model Build progress: |███████████████████████████████████████████████| 100%\n",
      "|  18       | -0.5888   |  0.02112  |  3.078    |  9.961    |  329.1    |  0.9597   |\n",
      "gbm Model Build progress: |███████████████████████████████████████████████| 100%\n",
      "|  19       | -0.5632   |  0.01     |  8.0      |  5.0      |  800.0    |  0.8      |\n",
      "gbm Model Build progress: |███████████████████████████████████████████████| 100%\n",
      "|  20       | -0.5912   |  0.04766  |  7.951    |  9.958    |  714.0    |  0.8181   |\n",
      "gbm Model Build progress: |███████████████████████████████████████████████| 100%\n",
      "|  21       | -0.5948   |  0.03614  |  3.032    |  5.182    |  628.9    |  0.9698   |\n",
      "gbm Model Build progress: |███████████████████████████████████████████████| 100%\n",
      "|  22       | -0.5787   |  0.03803  |  7.981    |  9.942    |  569.8    |  0.9471   |\n",
      "gbm Model Build progress: |███████████████████████████████████████████████| 100%\n",
      "|  23       | -0.5736   |  0.0495   |  7.91     |  5.046    |  767.2    |  0.9536   |\n",
      "gbm Model Build progress: |███████████████████████████████████████████████| 100%\n",
      "|  24       | -0.5694   |  0.01296  |  7.796    |  5.001    |  405.8    |  0.8278   |\n",
      "gbm Model Build progress: |███████████████████████████████████████████████| 100%\n",
      "|  25       | -0.5697   |  0.04384  |  7.976    |  5.199    |  347.3    |  0.9118   |\n",
      "=====================================================================================\n"
     ]
    }
   ],
   "source": [
    "# run Bayesian Optimization\n",
    "optimizer = BayesianOptimization(\n",
    "    f = GBDT_h2o,\n",
    "    pbounds = bounds,\n",
    "    random_state = 2020)\n",
    "optimizer.maximize(init_points = 5, n_iter = 20)"
   ]
  },
  {
   "cell_type": "code",
   "execution_count": 65,
   "metadata": {
    "scrolled": true
   },
   "outputs": [
    {
     "data": {
      "text/plain": [
       "{'target': -0.5632478247168863,\n",
       " 'params': {'learn_rate': 0.01,\n",
       "  'max_depth': 8.0,\n",
       "  'min_rows': 5.000000007839401,\n",
       "  'ntrees': 800.0,\n",
       "  'sample_rate': 0.8000000148665619}}"
      ]
     },
     "execution_count": 65,
     "metadata": {},
     "output_type": "execute_result"
    }
   ],
   "source": [
    "optimizer.max"
   ]
  },
  {
   "cell_type": "code",
   "execution_count": 70,
   "metadata": {},
   "outputs": [
    {
     "name": "stdout",
     "output_type": "stream",
     "text": [
      "gbm Model Build progress: |███████████████████████████████████████████████| 100%\n"
     ]
    }
   ],
   "source": [
    "# train model with the best parameters\n",
    "best_param = {'learn_rate': 0.01,\n",
    "             'max_depth': 8,\n",
    "             'min_rows': 5,\n",
    "             'ntrees': 800,\n",
    "             'sample_rate': 0.8}\n",
    "# nfolds = 5\n",
    "model = H2OGradientBoostingEstimator(**best_param)\n",
    "model.train(x = train.columns[:-1], y = 'quality', \\\n",
    "            training_frame = train, validation_frame = test)"
   ]
  },
  {
   "cell_type": "code",
   "execution_count": 72,
   "metadata": {},
   "outputs": [
    {
     "name": "stdout",
     "output_type": "stream",
     "text": [
      "Train RMSE = 0.16036605054753\n",
      "Test RMSE = 0.5652282702693677\n"
     ]
    }
   ],
   "source": [
    "print(\"Train RMSE = {0}\".format(model.rmse()))\n",
    "print(\"Test RMSE = {0}\".format(model.rmse(valid=True)))"
   ]
  },
  {
   "cell_type": "code",
   "execution_count": 73,
   "metadata": {},
   "outputs": [
    {
     "name": "stdout",
     "output_type": "stream",
     "text": [
      "gbm prediction progress: |████████████████████████████████████████████████| 100%\n"
     ]
    },
    {
     "data": {
      "text/html": [
       "<table>\n",
       "<thead>\n",
       "<tr><th style=\"text-align: right;\">  predict</th></tr>\n",
       "</thead>\n",
       "<tbody>\n",
       "<tr><td style=\"text-align: right;\">  4.97194</td></tr>\n",
       "<tr><td style=\"text-align: right;\">  5.12012</td></tr>\n",
       "<tr><td style=\"text-align: right;\">  4.90172</td></tr>\n",
       "<tr><td style=\"text-align: right;\">  5.42199</td></tr>\n",
       "<tr><td style=\"text-align: right;\">  5.02189</td></tr>\n",
       "<tr><td style=\"text-align: right;\">  5.24796</td></tr>\n",
       "<tr><td style=\"text-align: right;\">  5.24851</td></tr>\n",
       "<tr><td style=\"text-align: right;\">  5.23156</td></tr>\n",
       "<tr><td style=\"text-align: right;\">  5.72173</td></tr>\n",
       "<tr><td style=\"text-align: right;\">  5.31643</td></tr>\n",
       "</tbody>\n",
       "</table>"
      ]
     },
     "metadata": {},
     "output_type": "display_data"
    },
    {
     "data": {
      "text/plain": []
     },
     "execution_count": 73,
     "metadata": {},
     "output_type": "execute_result"
    }
   ],
   "source": [
    "# predict the test value\n",
    "model.predict(test)"
   ]
  }
 ],
 "metadata": {
  "kernelspec": {
   "display_name": "Python 3",
   "language": "python",
   "name": "python3"
  },
  "language_info": {
   "codemirror_mode": {
    "name": "ipython",
    "version": 3
   },
   "file_extension": ".py",
   "mimetype": "text/x-python",
   "name": "python",
   "nbconvert_exporter": "python",
   "pygments_lexer": "ipython3",
   "version": "3.7.4"
  }
 },
 "nbformat": 4,
 "nbformat_minor": 2
}
